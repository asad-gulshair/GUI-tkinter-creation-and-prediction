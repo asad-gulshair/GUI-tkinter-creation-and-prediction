{
 "cells": [
  {
   "cell_type": "code",
   "execution_count": 1,
   "id": "29458937",
   "metadata": {},
   "outputs": [],
   "source": []
  },
  {
   "cell_type": "code",
   "execution_count": 1,
   "id": "066efff2",
   "metadata": {},
   "outputs": [],
   "source": [
    "from tkinter import *\n",
    "import joblib\n",
    "from sklearn.datasets import load_iris\n",
    "from sklearn.tree import DecisionTreeClassifier\n",
    "from tkinter import messagebox\n",
    "iris=load_iris()"
   ]
  },
  {
   "cell_type": "code",
   "execution_count": 2,
   "id": "e7cb1cae",
   "metadata": {},
   "outputs": [
    {
     "data": {
      "text/plain": [
       "dict_keys(['data', 'target', 'frame', 'target_names', 'DESCR', 'feature_names', 'filename', 'data_module'])"
      ]
     },
     "execution_count": 2,
     "metadata": {},
     "output_type": "execute_result"
    }
   ],
   "source": [
    "iris.keys()"
   ]
  },
  {
   "cell_type": "code",
   "execution_count": 3,
   "id": "605a228c",
   "metadata": {},
   "outputs": [],
   "source": [
    "X=iris.data\n",
    "Y=iris.target"
   ]
  },
  {
   "cell_type": "code",
   "execution_count": 4,
   "id": "339db734",
   "metadata": {},
   "outputs": [
    {
     "data": {
      "text/plain": [
       "array([[5.1, 3.5, 1.4, 0.2],\n",
       "       [4.9, 3. , 1.4, 0.2],\n",
       "       [4.7, 3.2, 1.3, 0.2],\n",
       "       [4.6, 3.1, 1.5, 0.2],\n",
       "       [5. , 3.6, 1.4, 0.2],\n",
       "       [5.4, 3.9, 1.7, 0.4],\n",
       "       [4.6, 3.4, 1.4, 0.3],\n",
       "       [5. , 3.4, 1.5, 0.2],\n",
       "       [4.4, 2.9, 1.4, 0.2],\n",
       "       [4.9, 3.1, 1.5, 0.1]])"
      ]
     },
     "execution_count": 4,
     "metadata": {},
     "output_type": "execute_result"
    }
   ],
   "source": [
    "X[:10]"
   ]
  },
  {
   "cell_type": "code",
   "execution_count": 5,
   "id": "2c17323a",
   "metadata": {},
   "outputs": [
    {
     "data": {
      "text/plain": [
       "array([0, 0, 0, 0, 0, 0, 0, 0, 0, 0, 0, 0, 0, 0, 0, 0, 0, 0, 0, 0, 0, 0,\n",
       "       0, 0, 0, 0, 0, 0, 0, 0, 0, 0, 0, 0, 0, 0, 0, 0, 0, 0, 0, 0, 0, 0,\n",
       "       0, 0, 0, 0, 0, 0, 1, 1, 1, 1, 1, 1, 1, 1, 1, 1, 1, 1, 1, 1, 1, 1,\n",
       "       1, 1, 1, 1, 1, 1, 1, 1, 1, 1, 1, 1, 1, 1, 1, 1, 1, 1, 1, 1, 1, 1,\n",
       "       1, 1, 1, 1, 1, 1, 1, 1, 1, 1, 1, 1, 2, 2, 2, 2, 2, 2, 2, 2, 2, 2,\n",
       "       2, 2, 2, 2, 2, 2, 2, 2, 2, 2, 2, 2, 2, 2, 2, 2, 2, 2, 2, 2, 2, 2,\n",
       "       2, 2, 2, 2, 2, 2, 2, 2, 2, 2, 2, 2, 2, 2, 2, 2, 2, 2])"
      ]
     },
     "execution_count": 5,
     "metadata": {},
     "output_type": "execute_result"
    }
   ],
   "source": [
    "Y"
   ]
  },
  {
   "cell_type": "code",
   "execution_count": 6,
   "id": "a92e55ab",
   "metadata": {},
   "outputs": [],
   "source": [
    "model=DecisionTreeClassifier()\n",
    "model.fit(X,Y)\n",
    "joblib.dump(model,\"iris_model.joblib\")\n",
    "root=Tk()\n",
    "root.title(\"iris flower predicter\")\n",
    "root.geometry(\"600x300\")\n",
    "root.config(bg='lightgreen')\n",
    "header=Label(root,text=\"iris flower predictor\",bg=\"lightgreen\",foreground=\"black\",font=(\"Arial\",20,\"bold\"))\n",
    "header.pack()\n",
    "frame1=Frame(root,bg=\"lightgreen\")\n",
    "frame1.pack()\n",
    "\n",
    "label1=Label(frame1,text=\"sepal Length\",bg=\"lightgreen\",foreground=\"black\",font=(\"Arial\",16,\"bold\"))\n",
    "label1.grid(row=0,column=0,pady=10)\n",
    "entry1=Entry(frame1,width=10,font=(\"Arial\",16,\"bold\"),bg=\"gray\",fg=\"white\",borderwidth=3)\n",
    "entry1.grid(row=0,column=1,pady=10,padx=5)\n",
    "#######################################################\n",
    "\n",
    "label2=Label(frame1,text=\"sepal Length\",bg=\"lightgreen\",foreground=\"black\",font=(\"Arial\",16,\"bold\"))\n",
    "label2.grid(row=0,column=2,pady=10)\n",
    "entry2=Entry(frame1,width=10,font=(\"Arial\",16,\"bold\"),bg=\"gray\",fg=\"white\",borderwidth=3)\n",
    "entry2.grid(row=0,column=3,pady=10)\n",
    "\n",
    "#####################################################\n",
    "label3=Label(frame1,text=\"sepal Length\",bg=\"lightgreen\",foreground=\"black\",font=(\"Arial\",16,\"bold\"))\n",
    "label3.grid(row=1,column=0,pady=10)\n",
    "entry3=Entry(frame1,width=10,font=(\"Arial\",16,\"bold\"),bg=\"gray\",fg=\"white\",borderwidth=3)\n",
    "entry3.grid(row=1,column=1,pady=10,padx=5)\n",
    "#######################################################\n",
    "\n",
    "label4=Label(frame1,text=\"sepal Length\",bg=\"lightgreen\",foreground=\"black\",font=(\"Arial\",16,\"bold\"))\n",
    "label4.grid(row=1,column=2,pady=10)\n",
    "entry4=Entry(frame1,width=10,font=(\"Arial\",16,\"bold\"),bg=\"gray\",fg=\"white\",borderwidth=3)\n",
    "entry4.grid(row=1,column=3,pady=10)\n",
    "##############################################\n",
    "species_label=Label(root,text=\"\",bg=\"lightgreen\",font=(\"Arial\",16,\"bold\"))\n",
    "species_label.pack()\n",
    "\n",
    "def predict_species():\n",
    "    model=joblib.load(\"iris_model.joblib\")\n",
    "    sepal_length=float(entry1.get())\n",
    "    sepal_width=float(entry1.get())\n",
    "    petal_length=float(entry1.get())\n",
    "    petal_width=float(entry1.get())\n",
    "    \n",
    "    pred=model.predict([[sepal_length,sepal_width,petal_length,petal_width]])\n",
    "    species_label.config(text=\"predicted_species:\" +iris.target_names[pred[0]])\n",
    "button=Button(text=\"predict species\",bg=\"lightgreen\",activebackground=\"green\",borderwidth=3,font=(\"Arial\",16,\"bold\"),\n",
    "             command=predict_species)\n",
    "button.pack()\n",
    "\n",
    "root.mainloop()"
   ]
  },
  {
   "cell_type": "code",
   "execution_count": null,
   "id": "88931cce",
   "metadata": {},
   "outputs": [],
   "source": []
  },
  {
   "cell_type": "code",
   "execution_count": null,
   "id": "2916c5c0",
   "metadata": {},
   "outputs": [],
   "source": []
  },
  {
   "cell_type": "code",
   "execution_count": 98,
   "id": "9c4ff4b8",
   "metadata": {},
   "outputs": [],
   "source": []
  },
  {
   "cell_type": "code",
   "execution_count": null,
   "id": "e8034df8",
   "metadata": {},
   "outputs": [],
   "source": []
  },
  {
   "cell_type": "code",
   "execution_count": null,
   "id": "3e66783d",
   "metadata": {},
   "outputs": [],
   "source": []
  },
  {
   "cell_type": "code",
   "execution_count": null,
   "id": "5af52d7b",
   "metadata": {},
   "outputs": [],
   "source": []
  }
 ],
 "metadata": {
  "kernelspec": {
   "display_name": "Python 3 (ipykernel)",
   "language": "python",
   "name": "python3"
  },
  "language_info": {
   "codemirror_mode": {
    "name": "ipython",
    "version": 3
   },
   "file_extension": ".py",
   "mimetype": "text/x-python",
   "name": "python",
   "nbconvert_exporter": "python",
   "pygments_lexer": "ipython3",
   "version": "3.11.3"
  }
 },
 "nbformat": 4,
 "nbformat_minor": 5
}
